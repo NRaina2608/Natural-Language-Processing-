{
 "cells": [
  {
   "cell_type": "code",
   "execution_count": 6,
   "id": "27d3aca9",
   "metadata": {},
   "outputs": [],
   "source": [
    "import spacy"
   ]
  },
  {
   "cell_type": "code",
   "execution_count": 7,
   "id": "6fec2544",
   "metadata": {},
   "outputs": [],
   "source": [
    "nlp = spacy.load('en_core_web_sm')"
   ]
  },
  {
   "cell_type": "code",
   "execution_count": 8,
   "id": "ecc78e0c",
   "metadata": {},
   "outputs": [],
   "source": [
    "doc = nlp(u\"I thought why to think when thinking makes u feel who thinks, so thank yourself before thanking to anyone else\")"
   ]
  },
  {
   "cell_type": "code",
   "execution_count": 9,
   "id": "1f297ea9",
   "metadata": {},
   "outputs": [
    {
     "name": "stdout",
     "output_type": "stream",
     "text": [
      "I \t PRON \t 561228191312463089 \t -PRON-\n",
      "thought \t VERB \t 16875814820671380748 \t think\n",
      "why \t ADV \t 16315412628806490806 \t why\n",
      "to \t PART \t 3791531372978436496 \t to\n",
      "think \t VERB \t 16875814820671380748 \t think\n",
      "when \t ADV \t 15807309897752499399 \t when\n",
      "thinking \t NOUN \t 10346293177613240481 \t thinking\n",
      "makes \t VERB \t 9614445426764226664 \t make\n",
      "u \t PRON \t 12247454108283186160 \t u\n",
      "feel \t VERB \t 5741770584995928333 \t feel\n",
      "who \t PRON \t 3876862883474502309 \t who\n",
      "thinks \t VERB \t 16875814820671380748 \t think\n",
      ", \t PUNCT \t 2593208677638477497 \t ,\n",
      "so \t ADV \t 9781598966686434415 \t so\n",
      "thank \t VERB \t 8960195134057108264 \t thank\n",
      "yourself \t PRON \t 561228191312463089 \t -PRON-\n",
      "before \t ADP \t 11320251846592927908 \t before\n",
      "thanking \t VERB \t 8960195134057108264 \t thank\n",
      "to \t ADP \t 3791531372978436496 \t to\n",
      "anyone \t PRON \t 444920330522528470 \t anyone\n",
      "else \t ADV \t 5691613950422571694 \t else\n"
     ]
    }
   ],
   "source": [
    "for t in doc:\n",
    "    print(t,'\\t',t.pos_,'\\t',t.lemma,'\\t',t.lemma_)"
   ]
  },
  {
   "cell_type": "code",
   "execution_count": 13,
   "id": "d9449750",
   "metadata": {},
   "outputs": [],
   "source": [
    "def show_lemmas(text):\n",
    "    for token in text:\n",
    "        print(f'{token.text:{12}} {token.pos:{6}} {token.lemma:{22}} {token.lemma_}')\n"
   ]
  },
  {
   "cell_type": "code",
   "execution_count": 16,
   "id": "d10eabed",
   "metadata": {},
   "outputs": [
    {
     "name": "stdout",
     "output_type": "stream",
     "text": [
      "I                95     561228191312463089 -PRON-\n",
      "thought         100   16875814820671380748 think\n",
      "why              86   16315412628806490806 why\n",
      "to               94    3791531372978436496 to\n",
      "think           100   16875814820671380748 think\n",
      "when             86   15807309897752499399 when\n",
      "thinking         92   10346293177613240481 thinking\n",
      "makes           100    9614445426764226664 make\n",
      "u                95   12247454108283186160 u\n",
      "feel            100    5741770584995928333 feel\n",
      "who              95    3876862883474502309 who\n",
      "thinks          100   16875814820671380748 think\n",
      ",                97    2593208677638477497 ,\n",
      "so               86    9781598966686434415 so\n",
      "thank           100    8960195134057108264 thank\n",
      "yourself         95     561228191312463089 -PRON-\n",
      "before           85   11320251846592927908 before\n",
      "thanking        100    8960195134057108264 thank\n",
      "to               85    3791531372978436496 to\n",
      "anyone           95     444920330522528470 anyone\n",
      "else             86    5691613950422571694 else\n"
     ]
    }
   ],
   "source": [
    "show_lemmas(doc)"
   ]
  },
  {
   "cell_type": "code",
   "execution_count": null,
   "id": "baceebee",
   "metadata": {},
   "outputs": [],
   "source": []
  }
 ],
 "metadata": {
  "kernelspec": {
   "display_name": "Python 3",
   "language": "python",
   "name": "python3"
  },
  "language_info": {
   "codemirror_mode": {
    "name": "ipython",
    "version": 3
   },
   "file_extension": ".py",
   "mimetype": "text/x-python",
   "name": "python",
   "nbconvert_exporter": "python",
   "pygments_lexer": "ipython3",
   "version": "3.8.8"
  }
 },
 "nbformat": 4,
 "nbformat_minor": 5
}
