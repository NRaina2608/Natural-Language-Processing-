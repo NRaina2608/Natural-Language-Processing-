{
 "cells": [
  {
   "cell_type": "code",
   "execution_count": 1,
   "id": "e6272b02",
   "metadata": {},
   "outputs": [],
   "source": [
    "import nltk"
   ]
  },
  {
   "cell_type": "code",
   "execution_count": 2,
   "id": "b21e812c",
   "metadata": {},
   "outputs": [],
   "source": [
    "from nltk.stem.porter import PorterStemmer"
   ]
  },
  {
   "cell_type": "code",
   "execution_count": 8,
   "id": "58032960",
   "metadata": {},
   "outputs": [],
   "source": [
    "p_stemmer = PorterStemmer()"
   ]
  },
  {
   "cell_type": "code",
   "execution_count": 9,
   "id": "e9a55ad6",
   "metadata": {},
   "outputs": [],
   "source": [
    "words = ['run','runner','ran','runs','easily','fairly']"
   ]
  },
  {
   "cell_type": "code",
   "execution_count": 14,
   "id": "3b3ca9f9",
   "metadata": {},
   "outputs": [
    {
     "name": "stdout",
     "output_type": "stream",
     "text": [
      "run  -------->   run\n",
      "runner  -------->   runner\n",
      "ran  -------->   ran\n",
      "runs  -------->   run\n",
      "easily  -------->   easili\n",
      "fairly  -------->   fairli\n"
     ]
    }
   ],
   "source": [
    "for word in words:\n",
    "    print(word + '  -------->   ' + p_stemmer.stem(word))"
   ]
  },
  {
   "cell_type": "code",
   "execution_count": 17,
   "id": "fd871bb8",
   "metadata": {},
   "outputs": [],
   "source": [
    "from nltk.stem.snowball import SnowballStemmer"
   ]
  },
  {
   "cell_type": "code",
   "execution_count": 19,
   "id": "a74fb81e",
   "metadata": {},
   "outputs": [],
   "source": [
    "s_stemmer = SnowballStemmer(language='english')"
   ]
  },
  {
   "cell_type": "code",
   "execution_count": 20,
   "id": "ba8a30d0",
   "metadata": {},
   "outputs": [
    {
     "name": "stdout",
     "output_type": "stream",
     "text": [
      "run  -------->   run\n",
      "runner  -------->   runner\n",
      "ran  -------->   ran\n",
      "runs  -------->   run\n",
      "easily  -------->   easili\n",
      "fairly  -------->   fair\n"
     ]
    }
   ],
   "source": [
    "for word in words:\n",
    "    print(word + '  -------->   ' + s_stemmer.stem(word))"
   ]
  },
  {
   "cell_type": "code",
   "execution_count": 23,
   "id": "4a7de467",
   "metadata": {},
   "outputs": [],
   "source": [
    "words1 = ['calm','calmly','calmness']"
   ]
  },
  {
   "cell_type": "code",
   "execution_count": 24,
   "id": "9b2d5aaf",
   "metadata": {},
   "outputs": [
    {
     "name": "stdout",
     "output_type": "stream",
     "text": [
      "calm  ----->  calm\n",
      "calmly  ----->  calm\n",
      "calmness  ----->  calm\n"
     ]
    }
   ],
   "source": [
    "for word in words1:\n",
    "    print(word + '  ----->  ' + s_stemmer.stem(word))"
   ]
  },
  {
   "cell_type": "code",
   "execution_count": 25,
   "id": "4095e4d4",
   "metadata": {},
   "outputs": [
    {
     "name": "stdout",
     "output_type": "stream",
     "text": [
      "calm  ----->  calm\n",
      "calmly  ----->  calmli\n",
      "calmness  ----->  calm\n"
     ]
    }
   ],
   "source": [
    "for word in words1:\n",
    "    print(word + '  ----->  ' + p_stemmer.stem(word))"
   ]
  },
  {
   "cell_type": "code",
   "execution_count": null,
   "id": "2c6f5bb3",
   "metadata": {},
   "outputs": [],
   "source": []
  }
 ],
 "metadata": {
  "kernelspec": {
   "display_name": "Python 3",
   "language": "python",
   "name": "python3"
  },
  "language_info": {
   "codemirror_mode": {
    "name": "ipython",
    "version": 3
   },
   "file_extension": ".py",
   "mimetype": "text/x-python",
   "name": "python",
   "nbconvert_exporter": "python",
   "pygments_lexer": "ipython3",
   "version": "3.8.8"
  }
 },
 "nbformat": 4,
 "nbformat_minor": 5
}
