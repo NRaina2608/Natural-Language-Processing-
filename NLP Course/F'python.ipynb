{
 "cells": [
  {
   "cell_type": "code",
   "execution_count": 1,
   "id": "9bf6a20c",
   "metadata": {},
   "outputs": [
    {
     "name": "stdout",
     "output_type": "stream",
     "text": [
      "hello\n"
     ]
    }
   ],
   "source": [
    "print('hello')"
   ]
  },
  {
   "cell_type": "code",
   "execution_count": 3,
   "id": "f9bf6799",
   "metadata": {},
   "outputs": [],
   "source": [
    "person = \"jose\""
   ]
  },
  {
   "cell_type": "code",
   "execution_count": 4,
   "id": "4a83040c",
   "metadata": {},
   "outputs": [
    {
     "name": "stdout",
     "output_type": "stream",
     "text": [
      "my name is jose\n"
     ]
    }
   ],
   "source": [
    "print(f\"my name is {person}\")"
   ]
  },
  {
   "cell_type": "code",
   "execution_count": 5,
   "id": "a8445858",
   "metadata": {},
   "outputs": [],
   "source": [
    "d = {'a':123, 'b':456}"
   ]
  },
  {
   "cell_type": "code",
   "execution_count": 6,
   "id": "32ae859b",
   "metadata": {},
   "outputs": [
    {
     "name": "stdout",
     "output_type": "stream",
     "text": [
      "the value of a is 123\n"
     ]
    }
   ],
   "source": [
    "print(f\"the value of a is {d['a']}\")"
   ]
  },
  {
   "cell_type": "code",
   "execution_count": 7,
   "id": "abeee140",
   "metadata": {},
   "outputs": [],
   "source": [
    "mylist = [0,1,2]"
   ]
  },
  {
   "cell_type": "code",
   "execution_count": 8,
   "id": "f74ab403",
   "metadata": {},
   "outputs": [
    {
     "name": "stdout",
     "output_type": "stream",
     "text": [
      "my number is 0\n"
     ]
    }
   ],
   "source": [
    "print(f\"my number is {mylist[0]}\")"
   ]
  },
  {
   "cell_type": "code",
   "execution_count": 9,
   "id": "2d30a4e3",
   "metadata": {},
   "outputs": [
    {
     "name": "stdout",
     "output_type": "stream",
     "text": [
      "my number is 1\n"
     ]
    }
   ],
   "source": [
    "print(f\"my number is {mylist[1]}\")"
   ]
  },
  {
   "cell_type": "code",
   "execution_count": 13,
   "id": "5756a2ed",
   "metadata": {},
   "outputs": [],
   "source": [
    "name = [\"jose\", \"neha\", \"shivam\"]"
   ]
  },
  {
   "cell_type": "code",
   "execution_count": 15,
   "id": "68c88574",
   "metadata": {},
   "outputs": [
    {
     "name": "stdout",
     "output_type": "stream",
     "text": [
      "my name is shivam\n"
     ]
    }
   ],
   "source": [
    "print(f\"my name is {name[2]}\")"
   ]
  },
  {
   "cell_type": "code",
   "execution_count": 17,
   "id": "6ddb7661",
   "metadata": {},
   "outputs": [
    {
     "name": "stdout",
     "output_type": "stream",
     "text": [
      "my person is neha\n"
     ]
    }
   ],
   "source": [
    "print(f\"my person is {name[1]}\")"
   ]
  },
  {
   "cell_type": "code",
   "execution_count": 19,
   "id": "4e559272",
   "metadata": {},
   "outputs": [],
   "source": [
    "collection = [('Author', 'Title', 'pages'), ('Neha', 'Magic', 100), ('Shivam', 'Horror', 150), ('Sunaina', 'Peace', 80)]"
   ]
  },
  {
   "cell_type": "code",
   "execution_count": 25,
   "id": "3d81ec5e",
   "metadata": {},
   "outputs": [
    {
     "name": "stdout",
     "output_type": "stream",
     "text": [
      "('Author', 'Title', 'pages')\n",
      "('Neha', 'Magic', 100)\n",
      "('Shivam', 'Horror', 150)\n",
      "('Sunaina', 'Peace', 80)\n"
     ]
    }
   ],
   "source": [
    "for book in collection:\n",
    "    print(book)"
   ]
  },
  {
   "cell_type": "code",
   "execution_count": 27,
   "id": "605a68e3",
   "metadata": {},
   "outputs": [
    {
     "name": "stdout",
     "output_type": "stream",
     "text": [
      "('Author', 'Title', 'pages')\n",
      "('Neha', 'Magic', 100)\n",
      "('Shivam', 'Horror', 150)\n",
      "('Sunaina', 'Peace', 80)\n"
     ]
    }
   ],
   "source": [
    "for Title in collection:\n",
    "    print(Title)"
   ]
  },
  {
   "cell_type": "code",
   "execution_count": 28,
   "id": "98f98471",
   "metadata": {},
   "outputs": [
    {
     "name": "stdout",
     "output_type": "stream",
     "text": [
      "Author\n",
      "Neha\n",
      "Shivam\n",
      "Sunaina\n"
     ]
    }
   ],
   "source": [
    "for book in collection:\n",
    "    print(F\"{book[0]}\")"
   ]
  },
  {
   "cell_type": "code",
   "execution_count": 29,
   "id": "3c374005",
   "metadata": {},
   "outputs": [
    {
     "name": "stdout",
     "output_type": "stream",
     "text": [
      "Author is Author\n",
      "Author is Neha\n",
      "Author is Shivam\n",
      "Author is Sunaina\n"
     ]
    }
   ],
   "source": [
    "for book in collection:\n",
    "    print(F\"Author is {book[0]}\")"
   ]
  },
  {
   "cell_type": "code",
   "execution_count": 30,
   "id": "c5a572c4",
   "metadata": {},
   "outputs": [
    {
     "name": "stdout",
     "output_type": "stream",
     "text": [
      "Author     Title                pages               \n",
      "Neha       Magic                                 100\n",
      "Shivam     Horror                                150\n",
      "Sunaina    Peace                                  80\n"
     ]
    }
   ],
   "source": [
    "for Author, Title, pages in collection:\n",
    "    print(f\"{Author:{10}} {Title:{20}} {pages:{20}}\")"
   ]
  },
  {
   "cell_type": "code",
   "execution_count": 31,
   "id": "8e43803e",
   "metadata": {},
   "outputs": [
    {
     "name": "stdout",
     "output_type": "stream",
     "text": [
      "Author     Title                               pages\n",
      "Neha       Magic                                 100\n",
      "Shivam     Horror                                150\n",
      "Sunaina    Peace                                  80\n"
     ]
    }
   ],
   "source": [
    "for Author, Title, pages in collection:\n",
    "    print(f\"{Author:{10}} {Title:{20}} {pages:>{20}}\")"
   ]
  },
  {
   "cell_type": "code",
   "execution_count": 32,
   "id": "6b051fa1",
   "metadata": {},
   "outputs": [],
   "source": [
    "from datetime import datetime"
   ]
  },
  {
   "cell_type": "code",
   "execution_count": 33,
   "id": "e71d2118",
   "metadata": {},
   "outputs": [],
   "source": [
    "today = datetime(year=2021,month=10,day=20)"
   ]
  },
  {
   "cell_type": "code",
   "execution_count": 34,
   "id": "a250aaf7",
   "metadata": {},
   "outputs": [
    {
     "name": "stdout",
     "output_type": "stream",
     "text": [
      "2021-10-20 00:00:00\n"
     ]
    }
   ],
   "source": [
    "print(f\"{today}\")"
   ]
  },
  {
   "cell_type": "code",
   "execution_count": 35,
   "id": "d8f82586",
   "metadata": {},
   "outputs": [
    {
     "data": {
      "text/plain": [
       "datetime.datetime(2021, 10, 20, 0, 0)"
      ]
     },
     "execution_count": 35,
     "metadata": {},
     "output_type": "execute_result"
    }
   ],
   "source": [
    "today"
   ]
  },
  {
   "cell_type": "code",
   "execution_count": 36,
   "id": "e063eb8a",
   "metadata": {},
   "outputs": [
    {
     "name": "stdout",
     "output_type": "stream",
     "text": [
      "October 20, 2021\n"
     ]
    }
   ],
   "source": [
    "print(f\"{today:%B %d, %Y}\")"
   ]
  },
  {
   "cell_type": "code",
   "execution_count": null,
   "id": "ab14e361",
   "metadata": {},
   "outputs": [],
   "source": []
  },
  {
   "cell_type": "code",
   "execution_count": null,
   "id": "237f09c7",
   "metadata": {},
   "outputs": [],
   "source": []
  },
  {
   "cell_type": "code",
   "execution_count": null,
   "id": "ab5d4f9a",
   "metadata": {},
   "outputs": [],
   "source": []
  }
 ],
 "metadata": {
  "kernelspec": {
   "display_name": "Python 3 (ipykernel)",
   "language": "python",
   "name": "python3"
  },
  "language_info": {
   "codemirror_mode": {
    "name": "ipython",
    "version": 3
   },
   "file_extension": ".py",
   "mimetype": "text/x-python",
   "name": "python",
   "nbconvert_exporter": "python",
   "pygments_lexer": "ipython3",
   "version": "3.7.11"
  }
 },
 "nbformat": 4,
 "nbformat_minor": 5
}
